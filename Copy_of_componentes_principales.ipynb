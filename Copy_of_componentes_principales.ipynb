{
  "nbformat": 4,
  "nbformat_minor": 0,
  "metadata": {
    "colab": {
      "provenance": [],
      "include_colab_link": true
    },
    "kernelspec": {
      "name": "python3",
      "display_name": "Python 3"
    },
    "language_info": {
      "name": "python"
    }
  },
  "cells": [
    {
      "cell_type": "markdown",
      "metadata": {
        "id": "view-in-github",
        "colab_type": "text"
      },
      "source": [
        "<a href=\"https://colab.research.google.com/github/albertocastillosm/assignment-bank/blob/master/Copy_of_componentes_principales.ipynb\" target=\"_parent\"><img src=\"https://colab.research.google.com/assets/colab-badge.svg\" alt=\"Open In Colab\"/></a>"
      ]
    },
    {
      "cell_type": "markdown",
      "source": [
        "<center><h1>Componentes principales </h1></center>"
      ],
      "metadata": {
        "id": "TMSQQ_SXAJCp"
      }
    },
    {
      "cell_type": "code",
      "execution_count": null,
      "metadata": {
        "id": "K0lfCtjFpae0"
      },
      "outputs": [],
      "source": [
        "import pandas as pd\n",
        "import numpy as np\n",
        "import matplotlib.pyplot as plt\n",
        "import seaborn as sns\n",
        "import warnings \n",
        "warnings.filterwarnings('ignore')"
      ]
    },
    {
      "cell_type": "code",
      "source": [
        "from google.colab import drive\n",
        "drive.mount('/content/drive')"
      ],
      "metadata": {
        "id": "Ar_TSoV0Hp-H",
        "colab": {
          "base_uri": "https://localhost:8080/"
        },
        "outputId": "26d64e75-f55b-4bef-90e5-98d4e49db90d"
      },
      "execution_count": null,
      "outputs": [
        {
          "output_type": "stream",
          "name": "stdout",
          "text": [
            "Drive already mounted at /content/drive; to attempt to forcibly remount, call drive.mount(\"/content/drive\", force_remount=True).\n"
          ]
        }
      ]
    },
    {
      "cell_type": "code",
      "source": [
        "import os\n",
        "os.chdir('/content/drive/MyDrive/mechainimsm of action/datas/temp_csv')"
      ],
      "metadata": {
        "id": "EFdsLH110Db9"
      },
      "execution_count": null,
      "outputs": []
    },
    {
      "cell_type": "markdown",
      "source": [
        "\n",
        "<center><img src='https://encrypted-tbn0.gstatic.com/images?q=tbn:ANd9GcR0a46JzS9x-Fs5kC3DVG1g6FdEtadsOkomEg&usqp=CAU' width=400, height=100 ></center>"
      ],
      "metadata": {
        "id": "m5zLyjognmB9"
      }
    },
    {
      "cell_type": "markdown",
      "source": [
        "<h4><li><b>g-</b> : Las características significan datos de expresión génica</li></h4>\n",
        "<h4><li><b>c-</b> : significan datos de viabilidad celula</li></h4>"
      ],
      "metadata": {
        "id": "VVmvwi4clI8y"
      }
    },
    {
      "cell_type": "code",
      "source": [
        "train_f=pd.read_csv('train_features.csv')\n",
        "test_f=pd.read_csv('test_features.csv')"
      ],
      "metadata": {
        "id": "W7EARTa4HzFj"
      },
      "execution_count": null,
      "outputs": []
    },
    {
      "cell_type": "code",
      "source": [
        "train_f.head()"
      ],
      "metadata": {
        "colab": {
          "base_uri": "https://localhost:8080/",
          "height": 300
        },
        "id": "sFIpdgALo4xQ",
        "outputId": "72f111d3-b7b9-4c53-b464-f2724426f0d8"
      },
      "execution_count": null,
      "outputs": [
        {
          "output_type": "execute_result",
          "data": {
            "text/plain": [
              "         sig_id cp_type  cp_time cp_dose     g-0     g-1     g-2     g-3  \\\n",
              "0  id_000644bb2  trt_cp       24      D1  1.0620  0.5577 -0.2479 -0.6208   \n",
              "1  id_000779bfc  trt_cp       72      D1  0.0743  0.4087  0.2991  0.0604   \n",
              "2  id_000a6266a  trt_cp       48      D1  0.6280  0.5817  1.5540 -0.0764   \n",
              "3  id_0015fd391  trt_cp       48      D1 -0.5138 -0.2491 -0.2656  0.5288   \n",
              "4  id_001626bd3  trt_cp       72      D2 -0.3254 -0.4009  0.9700  0.6919   \n",
              "\n",
              "      g-4     g-5  ...    c-90    c-91    c-92    c-93    c-94    c-95  \\\n",
              "0 -0.1944 -1.0120  ...  0.2862  0.2584  0.8076  0.5523 -0.1912  0.6584   \n",
              "1  1.0190  0.5207  ... -0.4265  0.7543  0.4708  0.0230  0.2957  0.4899   \n",
              "2 -0.0323  1.2390  ... -0.7250 -0.6297  0.6103  0.0223 -1.3240 -0.3174   \n",
              "3  4.0620 -0.8095  ... -2.0990 -0.6441 -5.6300 -1.3780 -0.8632 -1.2880   \n",
              "4  1.4180 -0.8244  ...  0.0042  0.0048  0.6670  1.0690  0.5523 -0.3031   \n",
              "\n",
              "     c-96    c-97    c-98    c-99  \n",
              "0 -0.3981  0.2139  0.3801  0.4176  \n",
              "1  0.1522  0.1241  0.6077  0.7371  \n",
              "2 -0.6417 -0.2187 -1.4080  0.6931  \n",
              "3 -1.6210 -0.8784 -0.3876 -0.8154  \n",
              "4  0.1094  0.2885 -0.3786  0.7125  \n",
              "\n",
              "[5 rows x 876 columns]"
            ],
            "text/html": [
              "\n",
              "  <div id=\"df-20d9386f-afb4-47b6-ae4a-b20ecffbba47\">\n",
              "    <div class=\"colab-df-container\">\n",
              "      <div>\n",
              "<style scoped>\n",
              "    .dataframe tbody tr th:only-of-type {\n",
              "        vertical-align: middle;\n",
              "    }\n",
              "\n",
              "    .dataframe tbody tr th {\n",
              "        vertical-align: top;\n",
              "    }\n",
              "\n",
              "    .dataframe thead th {\n",
              "        text-align: right;\n",
              "    }\n",
              "</style>\n",
              "<table border=\"1\" class=\"dataframe\">\n",
              "  <thead>\n",
              "    <tr style=\"text-align: right;\">\n",
              "      <th></th>\n",
              "      <th>sig_id</th>\n",
              "      <th>cp_type</th>\n",
              "      <th>cp_time</th>\n",
              "      <th>cp_dose</th>\n",
              "      <th>g-0</th>\n",
              "      <th>g-1</th>\n",
              "      <th>g-2</th>\n",
              "      <th>g-3</th>\n",
              "      <th>g-4</th>\n",
              "      <th>g-5</th>\n",
              "      <th>...</th>\n",
              "      <th>c-90</th>\n",
              "      <th>c-91</th>\n",
              "      <th>c-92</th>\n",
              "      <th>c-93</th>\n",
              "      <th>c-94</th>\n",
              "      <th>c-95</th>\n",
              "      <th>c-96</th>\n",
              "      <th>c-97</th>\n",
              "      <th>c-98</th>\n",
              "      <th>c-99</th>\n",
              "    </tr>\n",
              "  </thead>\n",
              "  <tbody>\n",
              "    <tr>\n",
              "      <th>0</th>\n",
              "      <td>id_000644bb2</td>\n",
              "      <td>trt_cp</td>\n",
              "      <td>24</td>\n",
              "      <td>D1</td>\n",
              "      <td>1.0620</td>\n",
              "      <td>0.5577</td>\n",
              "      <td>-0.2479</td>\n",
              "      <td>-0.6208</td>\n",
              "      <td>-0.1944</td>\n",
              "      <td>-1.0120</td>\n",
              "      <td>...</td>\n",
              "      <td>0.2862</td>\n",
              "      <td>0.2584</td>\n",
              "      <td>0.8076</td>\n",
              "      <td>0.5523</td>\n",
              "      <td>-0.1912</td>\n",
              "      <td>0.6584</td>\n",
              "      <td>-0.3981</td>\n",
              "      <td>0.2139</td>\n",
              "      <td>0.3801</td>\n",
              "      <td>0.4176</td>\n",
              "    </tr>\n",
              "    <tr>\n",
              "      <th>1</th>\n",
              "      <td>id_000779bfc</td>\n",
              "      <td>trt_cp</td>\n",
              "      <td>72</td>\n",
              "      <td>D1</td>\n",
              "      <td>0.0743</td>\n",
              "      <td>0.4087</td>\n",
              "      <td>0.2991</td>\n",
              "      <td>0.0604</td>\n",
              "      <td>1.0190</td>\n",
              "      <td>0.5207</td>\n",
              "      <td>...</td>\n",
              "      <td>-0.4265</td>\n",
              "      <td>0.7543</td>\n",
              "      <td>0.4708</td>\n",
              "      <td>0.0230</td>\n",
              "      <td>0.2957</td>\n",
              "      <td>0.4899</td>\n",
              "      <td>0.1522</td>\n",
              "      <td>0.1241</td>\n",
              "      <td>0.6077</td>\n",
              "      <td>0.7371</td>\n",
              "    </tr>\n",
              "    <tr>\n",
              "      <th>2</th>\n",
              "      <td>id_000a6266a</td>\n",
              "      <td>trt_cp</td>\n",
              "      <td>48</td>\n",
              "      <td>D1</td>\n",
              "      <td>0.6280</td>\n",
              "      <td>0.5817</td>\n",
              "      <td>1.5540</td>\n",
              "      <td>-0.0764</td>\n",
              "      <td>-0.0323</td>\n",
              "      <td>1.2390</td>\n",
              "      <td>...</td>\n",
              "      <td>-0.7250</td>\n",
              "      <td>-0.6297</td>\n",
              "      <td>0.6103</td>\n",
              "      <td>0.0223</td>\n",
              "      <td>-1.3240</td>\n",
              "      <td>-0.3174</td>\n",
              "      <td>-0.6417</td>\n",
              "      <td>-0.2187</td>\n",
              "      <td>-1.4080</td>\n",
              "      <td>0.6931</td>\n",
              "    </tr>\n",
              "    <tr>\n",
              "      <th>3</th>\n",
              "      <td>id_0015fd391</td>\n",
              "      <td>trt_cp</td>\n",
              "      <td>48</td>\n",
              "      <td>D1</td>\n",
              "      <td>-0.5138</td>\n",
              "      <td>-0.2491</td>\n",
              "      <td>-0.2656</td>\n",
              "      <td>0.5288</td>\n",
              "      <td>4.0620</td>\n",
              "      <td>-0.8095</td>\n",
              "      <td>...</td>\n",
              "      <td>-2.0990</td>\n",
              "      <td>-0.6441</td>\n",
              "      <td>-5.6300</td>\n",
              "      <td>-1.3780</td>\n",
              "      <td>-0.8632</td>\n",
              "      <td>-1.2880</td>\n",
              "      <td>-1.6210</td>\n",
              "      <td>-0.8784</td>\n",
              "      <td>-0.3876</td>\n",
              "      <td>-0.8154</td>\n",
              "    </tr>\n",
              "    <tr>\n",
              "      <th>4</th>\n",
              "      <td>id_001626bd3</td>\n",
              "      <td>trt_cp</td>\n",
              "      <td>72</td>\n",
              "      <td>D2</td>\n",
              "      <td>-0.3254</td>\n",
              "      <td>-0.4009</td>\n",
              "      <td>0.9700</td>\n",
              "      <td>0.6919</td>\n",
              "      <td>1.4180</td>\n",
              "      <td>-0.8244</td>\n",
              "      <td>...</td>\n",
              "      <td>0.0042</td>\n",
              "      <td>0.0048</td>\n",
              "      <td>0.6670</td>\n",
              "      <td>1.0690</td>\n",
              "      <td>0.5523</td>\n",
              "      <td>-0.3031</td>\n",
              "      <td>0.1094</td>\n",
              "      <td>0.2885</td>\n",
              "      <td>-0.3786</td>\n",
              "      <td>0.7125</td>\n",
              "    </tr>\n",
              "  </tbody>\n",
              "</table>\n",
              "<p>5 rows × 876 columns</p>\n",
              "</div>\n",
              "      <button class=\"colab-df-convert\" onclick=\"convertToInteractive('df-20d9386f-afb4-47b6-ae4a-b20ecffbba47')\"\n",
              "              title=\"Convert this dataframe to an interactive table.\"\n",
              "              style=\"display:none;\">\n",
              "        \n",
              "  <svg xmlns=\"http://www.w3.org/2000/svg\" height=\"24px\"viewBox=\"0 0 24 24\"\n",
              "       width=\"24px\">\n",
              "    <path d=\"M0 0h24v24H0V0z\" fill=\"none\"/>\n",
              "    <path d=\"M18.56 5.44l.94 2.06.94-2.06 2.06-.94-2.06-.94-.94-2.06-.94 2.06-2.06.94zm-11 1L8.5 8.5l.94-2.06 2.06-.94-2.06-.94L8.5 2.5l-.94 2.06-2.06.94zm10 10l.94 2.06.94-2.06 2.06-.94-2.06-.94-.94-2.06-.94 2.06-2.06.94z\"/><path d=\"M17.41 7.96l-1.37-1.37c-.4-.4-.92-.59-1.43-.59-.52 0-1.04.2-1.43.59L10.3 9.45l-7.72 7.72c-.78.78-.78 2.05 0 2.83L4 21.41c.39.39.9.59 1.41.59.51 0 1.02-.2 1.41-.59l7.78-7.78 2.81-2.81c.8-.78.8-2.07 0-2.86zM5.41 20L4 18.59l7.72-7.72 1.47 1.35L5.41 20z\"/>\n",
              "  </svg>\n",
              "      </button>\n",
              "      \n",
              "  <style>\n",
              "    .colab-df-container {\n",
              "      display:flex;\n",
              "      flex-wrap:wrap;\n",
              "      gap: 12px;\n",
              "    }\n",
              "\n",
              "    .colab-df-convert {\n",
              "      background-color: #E8F0FE;\n",
              "      border: none;\n",
              "      border-radius: 50%;\n",
              "      cursor: pointer;\n",
              "      display: none;\n",
              "      fill: #1967D2;\n",
              "      height: 32px;\n",
              "      padding: 0 0 0 0;\n",
              "      width: 32px;\n",
              "    }\n",
              "\n",
              "    .colab-df-convert:hover {\n",
              "      background-color: #E2EBFA;\n",
              "      box-shadow: 0px 1px 2px rgba(60, 64, 67, 0.3), 0px 1px 3px 1px rgba(60, 64, 67, 0.15);\n",
              "      fill: #174EA6;\n",
              "    }\n",
              "\n",
              "    [theme=dark] .colab-df-convert {\n",
              "      background-color: #3B4455;\n",
              "      fill: #D2E3FC;\n",
              "    }\n",
              "\n",
              "    [theme=dark] .colab-df-convert:hover {\n",
              "      background-color: #434B5C;\n",
              "      box-shadow: 0px 1px 3px 1px rgba(0, 0, 0, 0.15);\n",
              "      filter: drop-shadow(0px 1px 2px rgba(0, 0, 0, 0.3));\n",
              "      fill: #FFFFFF;\n",
              "    }\n",
              "  </style>\n",
              "\n",
              "      <script>\n",
              "        const buttonEl =\n",
              "          document.querySelector('#df-20d9386f-afb4-47b6-ae4a-b20ecffbba47 button.colab-df-convert');\n",
              "        buttonEl.style.display =\n",
              "          google.colab.kernel.accessAllowed ? 'block' : 'none';\n",
              "\n",
              "        async function convertToInteractive(key) {\n",
              "          const element = document.querySelector('#df-20d9386f-afb4-47b6-ae4a-b20ecffbba47');\n",
              "          const dataTable =\n",
              "            await google.colab.kernel.invokeFunction('convertToInteractive',\n",
              "                                                     [key], {});\n",
              "          if (!dataTable) return;\n",
              "\n",
              "          const docLinkHtml = 'Like what you see? Visit the ' +\n",
              "            '<a target=\"_blank\" href=https://colab.research.google.com/notebooks/data_table.ipynb>data table notebook</a>'\n",
              "            + ' to learn more about interactive tables.';\n",
              "          element.innerHTML = '';\n",
              "          dataTable['output_type'] = 'display_data';\n",
              "          await google.colab.output.renderOutput(dataTable, element);\n",
              "          const docLink = document.createElement('div');\n",
              "          docLink.innerHTML = docLinkHtml;\n",
              "          element.appendChild(docLink);\n",
              "        }\n",
              "      </script>\n",
              "    </div>\n",
              "  </div>\n",
              "  "
            ]
          },
          "metadata": {},
          "execution_count": 5
        }
      ]
    },
    {
      "cell_type": "code",
      "source": [
        "train_f.shape"
      ],
      "metadata": {
        "colab": {
          "base_uri": "https://localhost:8080/"
        },
        "id": "4HBIFlCdpjOo",
        "outputId": "ea482780-8751-4479-9486-228348ad6f73"
      },
      "execution_count": null,
      "outputs": [
        {
          "output_type": "execute_result",
          "data": {
            "text/plain": [
              "(23814, 876)"
            ]
          },
          "metadata": {},
          "execution_count": 6
        }
      ]
    },
    {
      "cell_type": "code",
      "source": [
        "train_f.isnull().sum().sum()"
      ],
      "metadata": {
        "colab": {
          "base_uri": "https://localhost:8080/"
        },
        "id": "hi2jZ0d-pqYM",
        "outputId": "887e9907-e25e-48e1-f341-ded5884dc997"
      },
      "execution_count": null,
      "outputs": [
        {
          "output_type": "execute_result",
          "data": {
            "text/plain": [
              "0"
            ]
          },
          "metadata": {},
          "execution_count": 8
        }
      ]
    },
    {
      "cell_type": "code",
      "source": [
        "train_f['cp_time'].unique()"
      ],
      "metadata": {
        "colab": {
          "base_uri": "https://localhost:8080/"
        },
        "id": "cnyc4mv8qMJH",
        "outputId": "0b9fa1e0-543b-497f-b5e4-75ccac47510a"
      },
      "execution_count": null,
      "outputs": [
        {
          "output_type": "execute_result",
          "data": {
            "text/plain": [
              "array([24, 72, 48])"
            ]
          },
          "metadata": {},
          "execution_count": 10
        }
      ]
    },
    {
      "cell_type": "code",
      "source": [
        "set_var=set(train_f.select_dtypes(exclude='O').columns)-set(['cp_time'])"
      ],
      "metadata": {
        "id": "JHspFT0aptMv"
      },
      "execution_count": null,
      "outputs": []
    },
    {
      "cell_type": "code",
      "source": [
        "train_f2=train_f[set_var].copy()"
      ],
      "metadata": {
        "id": "soNIrakpqaOL"
      },
      "execution_count": null,
      "outputs": []
    },
    {
      "cell_type": "code",
      "source": [
        "train_f2.head()"
      ],
      "metadata": {
        "colab": {
          "base_uri": "https://localhost:8080/",
          "height": 300
        },
        "id": "--yCVLWfqaLg",
        "outputId": "c09c36dc-d9c2-4e4a-fbea-e7c1ddc81f40"
      },
      "execution_count": null,
      "outputs": [
        {
          "output_type": "execute_result",
          "data": {
            "text/plain": [
              "    g-291   g-457    c-29    g-58   g-507   g-243   g-134   g-315   g-518  \\\n",
              "0  0.3860  0.6799  0.6078  0.5790 -0.5311 -1.2160  0.3539  0.3810  0.2890   \n",
              "1 -0.4210  0.7380  0.0474  0.3249 -0.5073  0.5680 -0.3062  0.7363 -0.6917   \n",
              "2 -0.3652  0.4051  0.6225 -0.1757  0.5718  1.0280  0.6535  0.3318 -0.9788   \n",
              "3  0.7247  0.2905 -0.3250  0.0899  1.9540  0.8285 -1.2910  0.3369  0.2775   \n",
              "4  0.0000  0.0614  0.0587  0.7709  0.9321  0.2817 -0.1871 -0.7069 -0.2938   \n",
              "\n",
              "    g-219  ...   g-110   g-424   g-635   g-580   g-646   g-228   g-402  \\\n",
              "0  0.2482  ... -0.7635 -0.6908 -0.2461 -0.2458  0.8418  1.1080 -0.5394   \n",
              "1 -0.4611  ...  0.7302 -0.6122 -0.2341  0.0863 -0.3301 -0.0554 -0.2157   \n",
              "2 -0.1942  ... -0.1204  0.3672  0.7849  0.5040  0.0083  0.0423 -0.4724   \n",
              "3  0.2921  ... -0.7025  1.3760  0.7685 -0.0759  0.4617 -0.6012  0.2314   \n",
              "4 -0.5558  ... -0.2246  0.9530 -0.3988  1.4920 -0.4773  0.5843 -1.7720   \n",
              "\n",
              "     g-71   g-258    g-67  \n",
              "0 -0.5369 -4.2300 -0.4195  \n",
              "1  0.0720 -2.8660  0.0954  \n",
              "2  0.6801  0.6456  0.0939  \n",
              "3  0.9767  0.1154  0.1186  \n",
              "4  0.5801  1.4300  0.1255  \n",
              "\n",
              "[5 rows x 872 columns]"
            ],
            "text/html": [
              "\n",
              "  <div id=\"df-605d8e7c-b431-4294-8e45-aaa7e672dee6\">\n",
              "    <div class=\"colab-df-container\">\n",
              "      <div>\n",
              "<style scoped>\n",
              "    .dataframe tbody tr th:only-of-type {\n",
              "        vertical-align: middle;\n",
              "    }\n",
              "\n",
              "    .dataframe tbody tr th {\n",
              "        vertical-align: top;\n",
              "    }\n",
              "\n",
              "    .dataframe thead th {\n",
              "        text-align: right;\n",
              "    }\n",
              "</style>\n",
              "<table border=\"1\" class=\"dataframe\">\n",
              "  <thead>\n",
              "    <tr style=\"text-align: right;\">\n",
              "      <th></th>\n",
              "      <th>g-291</th>\n",
              "      <th>g-457</th>\n",
              "      <th>c-29</th>\n",
              "      <th>g-58</th>\n",
              "      <th>g-507</th>\n",
              "      <th>g-243</th>\n",
              "      <th>g-134</th>\n",
              "      <th>g-315</th>\n",
              "      <th>g-518</th>\n",
              "      <th>g-219</th>\n",
              "      <th>...</th>\n",
              "      <th>g-110</th>\n",
              "      <th>g-424</th>\n",
              "      <th>g-635</th>\n",
              "      <th>g-580</th>\n",
              "      <th>g-646</th>\n",
              "      <th>g-228</th>\n",
              "      <th>g-402</th>\n",
              "      <th>g-71</th>\n",
              "      <th>g-258</th>\n",
              "      <th>g-67</th>\n",
              "    </tr>\n",
              "  </thead>\n",
              "  <tbody>\n",
              "    <tr>\n",
              "      <th>0</th>\n",
              "      <td>0.3860</td>\n",
              "      <td>0.6799</td>\n",
              "      <td>0.6078</td>\n",
              "      <td>0.5790</td>\n",
              "      <td>-0.5311</td>\n",
              "      <td>-1.2160</td>\n",
              "      <td>0.3539</td>\n",
              "      <td>0.3810</td>\n",
              "      <td>0.2890</td>\n",
              "      <td>0.2482</td>\n",
              "      <td>...</td>\n",
              "      <td>-0.7635</td>\n",
              "      <td>-0.6908</td>\n",
              "      <td>-0.2461</td>\n",
              "      <td>-0.2458</td>\n",
              "      <td>0.8418</td>\n",
              "      <td>1.1080</td>\n",
              "      <td>-0.5394</td>\n",
              "      <td>-0.5369</td>\n",
              "      <td>-4.2300</td>\n",
              "      <td>-0.4195</td>\n",
              "    </tr>\n",
              "    <tr>\n",
              "      <th>1</th>\n",
              "      <td>-0.4210</td>\n",
              "      <td>0.7380</td>\n",
              "      <td>0.0474</td>\n",
              "      <td>0.3249</td>\n",
              "      <td>-0.5073</td>\n",
              "      <td>0.5680</td>\n",
              "      <td>-0.3062</td>\n",
              "      <td>0.7363</td>\n",
              "      <td>-0.6917</td>\n",
              "      <td>-0.4611</td>\n",
              "      <td>...</td>\n",
              "      <td>0.7302</td>\n",
              "      <td>-0.6122</td>\n",
              "      <td>-0.2341</td>\n",
              "      <td>0.0863</td>\n",
              "      <td>-0.3301</td>\n",
              "      <td>-0.0554</td>\n",
              "      <td>-0.2157</td>\n",
              "      <td>0.0720</td>\n",
              "      <td>-2.8660</td>\n",
              "      <td>0.0954</td>\n",
              "    </tr>\n",
              "    <tr>\n",
              "      <th>2</th>\n",
              "      <td>-0.3652</td>\n",
              "      <td>0.4051</td>\n",
              "      <td>0.6225</td>\n",
              "      <td>-0.1757</td>\n",
              "      <td>0.5718</td>\n",
              "      <td>1.0280</td>\n",
              "      <td>0.6535</td>\n",
              "      <td>0.3318</td>\n",
              "      <td>-0.9788</td>\n",
              "      <td>-0.1942</td>\n",
              "      <td>...</td>\n",
              "      <td>-0.1204</td>\n",
              "      <td>0.3672</td>\n",
              "      <td>0.7849</td>\n",
              "      <td>0.5040</td>\n",
              "      <td>0.0083</td>\n",
              "      <td>0.0423</td>\n",
              "      <td>-0.4724</td>\n",
              "      <td>0.6801</td>\n",
              "      <td>0.6456</td>\n",
              "      <td>0.0939</td>\n",
              "    </tr>\n",
              "    <tr>\n",
              "      <th>3</th>\n",
              "      <td>0.7247</td>\n",
              "      <td>0.2905</td>\n",
              "      <td>-0.3250</td>\n",
              "      <td>0.0899</td>\n",
              "      <td>1.9540</td>\n",
              "      <td>0.8285</td>\n",
              "      <td>-1.2910</td>\n",
              "      <td>0.3369</td>\n",
              "      <td>0.2775</td>\n",
              "      <td>0.2921</td>\n",
              "      <td>...</td>\n",
              "      <td>-0.7025</td>\n",
              "      <td>1.3760</td>\n",
              "      <td>0.7685</td>\n",
              "      <td>-0.0759</td>\n",
              "      <td>0.4617</td>\n",
              "      <td>-0.6012</td>\n",
              "      <td>0.2314</td>\n",
              "      <td>0.9767</td>\n",
              "      <td>0.1154</td>\n",
              "      <td>0.1186</td>\n",
              "    </tr>\n",
              "    <tr>\n",
              "      <th>4</th>\n",
              "      <td>0.0000</td>\n",
              "      <td>0.0614</td>\n",
              "      <td>0.0587</td>\n",
              "      <td>0.7709</td>\n",
              "      <td>0.9321</td>\n",
              "      <td>0.2817</td>\n",
              "      <td>-0.1871</td>\n",
              "      <td>-0.7069</td>\n",
              "      <td>-0.2938</td>\n",
              "      <td>-0.5558</td>\n",
              "      <td>...</td>\n",
              "      <td>-0.2246</td>\n",
              "      <td>0.9530</td>\n",
              "      <td>-0.3988</td>\n",
              "      <td>1.4920</td>\n",
              "      <td>-0.4773</td>\n",
              "      <td>0.5843</td>\n",
              "      <td>-1.7720</td>\n",
              "      <td>0.5801</td>\n",
              "      <td>1.4300</td>\n",
              "      <td>0.1255</td>\n",
              "    </tr>\n",
              "  </tbody>\n",
              "</table>\n",
              "<p>5 rows × 872 columns</p>\n",
              "</div>\n",
              "      <button class=\"colab-df-convert\" onclick=\"convertToInteractive('df-605d8e7c-b431-4294-8e45-aaa7e672dee6')\"\n",
              "              title=\"Convert this dataframe to an interactive table.\"\n",
              "              style=\"display:none;\">\n",
              "        \n",
              "  <svg xmlns=\"http://www.w3.org/2000/svg\" height=\"24px\"viewBox=\"0 0 24 24\"\n",
              "       width=\"24px\">\n",
              "    <path d=\"M0 0h24v24H0V0z\" fill=\"none\"/>\n",
              "    <path d=\"M18.56 5.44l.94 2.06.94-2.06 2.06-.94-2.06-.94-.94-2.06-.94 2.06-2.06.94zm-11 1L8.5 8.5l.94-2.06 2.06-.94-2.06-.94L8.5 2.5l-.94 2.06-2.06.94zm10 10l.94 2.06.94-2.06 2.06-.94-2.06-.94-.94-2.06-.94 2.06-2.06.94z\"/><path d=\"M17.41 7.96l-1.37-1.37c-.4-.4-.92-.59-1.43-.59-.52 0-1.04.2-1.43.59L10.3 9.45l-7.72 7.72c-.78.78-.78 2.05 0 2.83L4 21.41c.39.39.9.59 1.41.59.51 0 1.02-.2 1.41-.59l7.78-7.78 2.81-2.81c.8-.78.8-2.07 0-2.86zM5.41 20L4 18.59l7.72-7.72 1.47 1.35L5.41 20z\"/>\n",
              "  </svg>\n",
              "      </button>\n",
              "      \n",
              "  <style>\n",
              "    .colab-df-container {\n",
              "      display:flex;\n",
              "      flex-wrap:wrap;\n",
              "      gap: 12px;\n",
              "    }\n",
              "\n",
              "    .colab-df-convert {\n",
              "      background-color: #E8F0FE;\n",
              "      border: none;\n",
              "      border-radius: 50%;\n",
              "      cursor: pointer;\n",
              "      display: none;\n",
              "      fill: #1967D2;\n",
              "      height: 32px;\n",
              "      padding: 0 0 0 0;\n",
              "      width: 32px;\n",
              "    }\n",
              "\n",
              "    .colab-df-convert:hover {\n",
              "      background-color: #E2EBFA;\n",
              "      box-shadow: 0px 1px 2px rgba(60, 64, 67, 0.3), 0px 1px 3px 1px rgba(60, 64, 67, 0.15);\n",
              "      fill: #174EA6;\n",
              "    }\n",
              "\n",
              "    [theme=dark] .colab-df-convert {\n",
              "      background-color: #3B4455;\n",
              "      fill: #D2E3FC;\n",
              "    }\n",
              "\n",
              "    [theme=dark] .colab-df-convert:hover {\n",
              "      background-color: #434B5C;\n",
              "      box-shadow: 0px 1px 3px 1px rgba(0, 0, 0, 0.15);\n",
              "      filter: drop-shadow(0px 1px 2px rgba(0, 0, 0, 0.3));\n",
              "      fill: #FFFFFF;\n",
              "    }\n",
              "  </style>\n",
              "\n",
              "      <script>\n",
              "        const buttonEl =\n",
              "          document.querySelector('#df-605d8e7c-b431-4294-8e45-aaa7e672dee6 button.colab-df-convert');\n",
              "        buttonEl.style.display =\n",
              "          google.colab.kernel.accessAllowed ? 'block' : 'none';\n",
              "\n",
              "        async function convertToInteractive(key) {\n",
              "          const element = document.querySelector('#df-605d8e7c-b431-4294-8e45-aaa7e672dee6');\n",
              "          const dataTable =\n",
              "            await google.colab.kernel.invokeFunction('convertToInteractive',\n",
              "                                                     [key], {});\n",
              "          if (!dataTable) return;\n",
              "\n",
              "          const docLinkHtml = 'Like what you see? Visit the ' +\n",
              "            '<a target=\"_blank\" href=https://colab.research.google.com/notebooks/data_table.ipynb>data table notebook</a>'\n",
              "            + ' to learn more about interactive tables.';\n",
              "          element.innerHTML = '';\n",
              "          dataTable['output_type'] = 'display_data';\n",
              "          await google.colab.output.renderOutput(dataTable, element);\n",
              "          const docLink = document.createElement('div');\n",
              "          docLink.innerHTML = docLinkHtml;\n",
              "          element.appendChild(docLink);\n",
              "        }\n",
              "      </script>\n",
              "    </div>\n",
              "  </div>\n",
              "  "
            ]
          },
          "metadata": {},
          "execution_count": 13
        }
      ]
    },
    {
      "cell_type": "markdown",
      "source": [
        "## Correlaciones "
      ],
      "metadata": {
        "id": "UdYntsVyqlTc"
      }
    },
    {
      "cell_type": "code",
      "source": [
        "df_corr=train_f2.corr()"
      ],
      "metadata": {
        "id": "8JbgpYw6qjzc"
      },
      "execution_count": null,
      "outputs": []
    },
    {
      "cell_type": "code",
      "source": [
        "df_corr.head()"
      ],
      "metadata": {
        "colab": {
          "base_uri": "https://localhost:8080/",
          "height": 386
        },
        "id": "-YDhPXXpp5Oo",
        "outputId": "e1736595-f017-4f81-c1ed-999f6420e160"
      },
      "execution_count": null,
      "outputs": [
        {
          "output_type": "execute_result",
          "data": {
            "text/plain": [
              "          g-291     g-457      c-29      g-58     g-507     g-243     g-134  \\\n",
              "g-291  1.000000  0.118238  0.608728  0.360511 -0.083637 -0.653636  0.183480   \n",
              "g-457  0.118238  1.000000  0.093210  0.012264  0.086331 -0.142523  0.103073   \n",
              "c-29   0.608728  0.093210  1.000000  0.490807 -0.145326 -0.708628  0.424039   \n",
              "g-58   0.360511  0.012264  0.490807  1.000000 -0.093394 -0.519470  0.453004   \n",
              "g-507 -0.083637  0.086331 -0.145326 -0.093394  1.000000  0.099962  0.049636   \n",
              "\n",
              "          g-315     g-518     g-219  ...     g-110     g-424     g-635  \\\n",
              "g-291  0.467534 -0.054889 -0.085647  ...  0.271557 -0.507464 -0.427124   \n",
              "g-457  0.320547 -0.030041 -0.001667  ...  0.035379 -0.101705 -0.051322   \n",
              "c-29   0.524478 -0.195166 -0.128995  ...  0.224789 -0.622898 -0.390256   \n",
              "g-58   0.433379 -0.064324 -0.074033  ...  0.275786 -0.479016 -0.372723   \n",
              "g-507 -0.062086  0.107775  0.051223  ... -0.113854  0.108423  0.028697   \n",
              "\n",
              "          g-580     g-646     g-228     g-402      g-71     g-258      g-67  \n",
              "g-291 -0.382546 -0.493164  0.577453 -0.456685 -0.127303 -0.304613  0.576841  \n",
              "g-457 -0.106482 -0.099014  0.026597 -0.162694 -0.046348  0.057316 -0.000481  \n",
              "c-29  -0.463983 -0.580802  0.736141 -0.563448 -0.016665 -0.270012  0.705990  \n",
              "g-58  -0.274862 -0.254373  0.633213 -0.427428  0.130926 -0.113996  0.525031  \n",
              "g-507  0.185776  0.109634 -0.160215  0.005511  0.105877  0.292092 -0.161848  \n",
              "\n",
              "[5 rows x 872 columns]"
            ],
            "text/html": [
              "\n",
              "  <div id=\"df-46e228ca-b669-4d00-ab4c-3ef512020ddb\">\n",
              "    <div class=\"colab-df-container\">\n",
              "      <div>\n",
              "<style scoped>\n",
              "    .dataframe tbody tr th:only-of-type {\n",
              "        vertical-align: middle;\n",
              "    }\n",
              "\n",
              "    .dataframe tbody tr th {\n",
              "        vertical-align: top;\n",
              "    }\n",
              "\n",
              "    .dataframe thead th {\n",
              "        text-align: right;\n",
              "    }\n",
              "</style>\n",
              "<table border=\"1\" class=\"dataframe\">\n",
              "  <thead>\n",
              "    <tr style=\"text-align: right;\">\n",
              "      <th></th>\n",
              "      <th>g-291</th>\n",
              "      <th>g-457</th>\n",
              "      <th>c-29</th>\n",
              "      <th>g-58</th>\n",
              "      <th>g-507</th>\n",
              "      <th>g-243</th>\n",
              "      <th>g-134</th>\n",
              "      <th>g-315</th>\n",
              "      <th>g-518</th>\n",
              "      <th>g-219</th>\n",
              "      <th>...</th>\n",
              "      <th>g-110</th>\n",
              "      <th>g-424</th>\n",
              "      <th>g-635</th>\n",
              "      <th>g-580</th>\n",
              "      <th>g-646</th>\n",
              "      <th>g-228</th>\n",
              "      <th>g-402</th>\n",
              "      <th>g-71</th>\n",
              "      <th>g-258</th>\n",
              "      <th>g-67</th>\n",
              "    </tr>\n",
              "  </thead>\n",
              "  <tbody>\n",
              "    <tr>\n",
              "      <th>g-291</th>\n",
              "      <td>1.000000</td>\n",
              "      <td>0.118238</td>\n",
              "      <td>0.608728</td>\n",
              "      <td>0.360511</td>\n",
              "      <td>-0.083637</td>\n",
              "      <td>-0.653636</td>\n",
              "      <td>0.183480</td>\n",
              "      <td>0.467534</td>\n",
              "      <td>-0.054889</td>\n",
              "      <td>-0.085647</td>\n",
              "      <td>...</td>\n",
              "      <td>0.271557</td>\n",
              "      <td>-0.507464</td>\n",
              "      <td>-0.427124</td>\n",
              "      <td>-0.382546</td>\n",
              "      <td>-0.493164</td>\n",
              "      <td>0.577453</td>\n",
              "      <td>-0.456685</td>\n",
              "      <td>-0.127303</td>\n",
              "      <td>-0.304613</td>\n",
              "      <td>0.576841</td>\n",
              "    </tr>\n",
              "    <tr>\n",
              "      <th>g-457</th>\n",
              "      <td>0.118238</td>\n",
              "      <td>1.000000</td>\n",
              "      <td>0.093210</td>\n",
              "      <td>0.012264</td>\n",
              "      <td>0.086331</td>\n",
              "      <td>-0.142523</td>\n",
              "      <td>0.103073</td>\n",
              "      <td>0.320547</td>\n",
              "      <td>-0.030041</td>\n",
              "      <td>-0.001667</td>\n",
              "      <td>...</td>\n",
              "      <td>0.035379</td>\n",
              "      <td>-0.101705</td>\n",
              "      <td>-0.051322</td>\n",
              "      <td>-0.106482</td>\n",
              "      <td>-0.099014</td>\n",
              "      <td>0.026597</td>\n",
              "      <td>-0.162694</td>\n",
              "      <td>-0.046348</td>\n",
              "      <td>0.057316</td>\n",
              "      <td>-0.000481</td>\n",
              "    </tr>\n",
              "    <tr>\n",
              "      <th>c-29</th>\n",
              "      <td>0.608728</td>\n",
              "      <td>0.093210</td>\n",
              "      <td>1.000000</td>\n",
              "      <td>0.490807</td>\n",
              "      <td>-0.145326</td>\n",
              "      <td>-0.708628</td>\n",
              "      <td>0.424039</td>\n",
              "      <td>0.524478</td>\n",
              "      <td>-0.195166</td>\n",
              "      <td>-0.128995</td>\n",
              "      <td>...</td>\n",
              "      <td>0.224789</td>\n",
              "      <td>-0.622898</td>\n",
              "      <td>-0.390256</td>\n",
              "      <td>-0.463983</td>\n",
              "      <td>-0.580802</td>\n",
              "      <td>0.736141</td>\n",
              "      <td>-0.563448</td>\n",
              "      <td>-0.016665</td>\n",
              "      <td>-0.270012</td>\n",
              "      <td>0.705990</td>\n",
              "    </tr>\n",
              "    <tr>\n",
              "      <th>g-58</th>\n",
              "      <td>0.360511</td>\n",
              "      <td>0.012264</td>\n",
              "      <td>0.490807</td>\n",
              "      <td>1.000000</td>\n",
              "      <td>-0.093394</td>\n",
              "      <td>-0.519470</td>\n",
              "      <td>0.453004</td>\n",
              "      <td>0.433379</td>\n",
              "      <td>-0.064324</td>\n",
              "      <td>-0.074033</td>\n",
              "      <td>...</td>\n",
              "      <td>0.275786</td>\n",
              "      <td>-0.479016</td>\n",
              "      <td>-0.372723</td>\n",
              "      <td>-0.274862</td>\n",
              "      <td>-0.254373</td>\n",
              "      <td>0.633213</td>\n",
              "      <td>-0.427428</td>\n",
              "      <td>0.130926</td>\n",
              "      <td>-0.113996</td>\n",
              "      <td>0.525031</td>\n",
              "    </tr>\n",
              "    <tr>\n",
              "      <th>g-507</th>\n",
              "      <td>-0.083637</td>\n",
              "      <td>0.086331</td>\n",
              "      <td>-0.145326</td>\n",
              "      <td>-0.093394</td>\n",
              "      <td>1.000000</td>\n",
              "      <td>0.099962</td>\n",
              "      <td>0.049636</td>\n",
              "      <td>-0.062086</td>\n",
              "      <td>0.107775</td>\n",
              "      <td>0.051223</td>\n",
              "      <td>...</td>\n",
              "      <td>-0.113854</td>\n",
              "      <td>0.108423</td>\n",
              "      <td>0.028697</td>\n",
              "      <td>0.185776</td>\n",
              "      <td>0.109634</td>\n",
              "      <td>-0.160215</td>\n",
              "      <td>0.005511</td>\n",
              "      <td>0.105877</td>\n",
              "      <td>0.292092</td>\n",
              "      <td>-0.161848</td>\n",
              "    </tr>\n",
              "  </tbody>\n",
              "</table>\n",
              "<p>5 rows × 872 columns</p>\n",
              "</div>\n",
              "      <button class=\"colab-df-convert\" onclick=\"convertToInteractive('df-46e228ca-b669-4d00-ab4c-3ef512020ddb')\"\n",
              "              title=\"Convert this dataframe to an interactive table.\"\n",
              "              style=\"display:none;\">\n",
              "        \n",
              "  <svg xmlns=\"http://www.w3.org/2000/svg\" height=\"24px\"viewBox=\"0 0 24 24\"\n",
              "       width=\"24px\">\n",
              "    <path d=\"M0 0h24v24H0V0z\" fill=\"none\"/>\n",
              "    <path d=\"M18.56 5.44l.94 2.06.94-2.06 2.06-.94-2.06-.94-.94-2.06-.94 2.06-2.06.94zm-11 1L8.5 8.5l.94-2.06 2.06-.94-2.06-.94L8.5 2.5l-.94 2.06-2.06.94zm10 10l.94 2.06.94-2.06 2.06-.94-2.06-.94-.94-2.06-.94 2.06-2.06.94z\"/><path d=\"M17.41 7.96l-1.37-1.37c-.4-.4-.92-.59-1.43-.59-.52 0-1.04.2-1.43.59L10.3 9.45l-7.72 7.72c-.78.78-.78 2.05 0 2.83L4 21.41c.39.39.9.59 1.41.59.51 0 1.02-.2 1.41-.59l7.78-7.78 2.81-2.81c.8-.78.8-2.07 0-2.86zM5.41 20L4 18.59l7.72-7.72 1.47 1.35L5.41 20z\"/>\n",
              "  </svg>\n",
              "      </button>\n",
              "      \n",
              "  <style>\n",
              "    .colab-df-container {\n",
              "      display:flex;\n",
              "      flex-wrap:wrap;\n",
              "      gap: 12px;\n",
              "    }\n",
              "\n",
              "    .colab-df-convert {\n",
              "      background-color: #E8F0FE;\n",
              "      border: none;\n",
              "      border-radius: 50%;\n",
              "      cursor: pointer;\n",
              "      display: none;\n",
              "      fill: #1967D2;\n",
              "      height: 32px;\n",
              "      padding: 0 0 0 0;\n",
              "      width: 32px;\n",
              "    }\n",
              "\n",
              "    .colab-df-convert:hover {\n",
              "      background-color: #E2EBFA;\n",
              "      box-shadow: 0px 1px 2px rgba(60, 64, 67, 0.3), 0px 1px 3px 1px rgba(60, 64, 67, 0.15);\n",
              "      fill: #174EA6;\n",
              "    }\n",
              "\n",
              "    [theme=dark] .colab-df-convert {\n",
              "      background-color: #3B4455;\n",
              "      fill: #D2E3FC;\n",
              "    }\n",
              "\n",
              "    [theme=dark] .colab-df-convert:hover {\n",
              "      background-color: #434B5C;\n",
              "      box-shadow: 0px 1px 3px 1px rgba(0, 0, 0, 0.15);\n",
              "      filter: drop-shadow(0px 1px 2px rgba(0, 0, 0, 0.3));\n",
              "      fill: #FFFFFF;\n",
              "    }\n",
              "  </style>\n",
              "\n",
              "      <script>\n",
              "        const buttonEl =\n",
              "          document.querySelector('#df-46e228ca-b669-4d00-ab4c-3ef512020ddb button.colab-df-convert');\n",
              "        buttonEl.style.display =\n",
              "          google.colab.kernel.accessAllowed ? 'block' : 'none';\n",
              "\n",
              "        async function convertToInteractive(key) {\n",
              "          const element = document.querySelector('#df-46e228ca-b669-4d00-ab4c-3ef512020ddb');\n",
              "          const dataTable =\n",
              "            await google.colab.kernel.invokeFunction('convertToInteractive',\n",
              "                                                     [key], {});\n",
              "          if (!dataTable) return;\n",
              "\n",
              "          const docLinkHtml = 'Like what you see? Visit the ' +\n",
              "            '<a target=\"_blank\" href=https://colab.research.google.com/notebooks/data_table.ipynb>data table notebook</a>'\n",
              "            + ' to learn more about interactive tables.';\n",
              "          element.innerHTML = '';\n",
              "          dataTable['output_type'] = 'display_data';\n",
              "          await google.colab.output.renderOutput(dataTable, element);\n",
              "          const docLink = document.createElement('div');\n",
              "          docLink.innerHTML = docLinkHtml;\n",
              "          element.appendChild(docLink);\n",
              "        }\n",
              "      </script>\n",
              "    </div>\n",
              "  </div>\n",
              "  "
            ]
          },
          "metadata": {},
          "execution_count": 15
        }
      ]
    },
    {
      "cell_type": "code",
      "source": [
        "plt.figure(figsize=(16,9))\n",
        "sns.heatmap(df_corr.iloc[:20,:20])"
      ],
      "metadata": {
        "colab": {
          "base_uri": "https://localhost:8080/",
          "height": 558
        },
        "id": "X-OfBfcWrEJx",
        "outputId": "aa8ef7f6-1484-42de-9e2a-3bf63b0d615c"
      },
      "execution_count": null,
      "outputs": [
        {
          "output_type": "execute_result",
          "data": {
            "text/plain": [
              "<matplotlib.axes._subplots.AxesSubplot at 0x7f46446e0090>"
            ]
          },
          "metadata": {},
          "execution_count": 16
        },
        {
          "output_type": "display_data",
          "data": {
            "text/plain": [
              "<Figure size 1152x648 with 2 Axes>"
            ],
            "image/png": "[encoded data removed]"
          },
          "metadata": {
            "needs_background": "light"
          }
        }
      ]
    },
    {
      "cell_type": "markdown",
      "source": [
        "## Escalado de variables"
      ],
      "metadata": {
        "id": "beQarNCsrj82"
      }
    },
    {
      "cell_type": "code",
      "source": [
        "from  sklearn.preprocessing import StandardScaler"
      ],
      "metadata": {
        "id": "Qys5TA8frlTj"
      },
      "execution_count": null,
      "outputs": []
    },
    {
      "cell_type": "code",
      "source": [
        "std=StandardScaler()"
      ],
      "metadata": {
        "id": "BWyLZzE6runp"
      },
      "execution_count": null,
      "outputs": []
    },
    {
      "cell_type": "code",
      "source": [
        "std_train=std.fit_transform(train_f2)"
      ],
      "metadata": {
        "id": "ejIsUU-7rukj"
      },
      "execution_count": null,
      "outputs": []
    },
    {
      "cell_type": "code",
      "source": [
        "test_f2=test_f[set_var].copy()"
      ],
      "metadata": {
        "id": "eqx423oRr7yb"
      },
      "execution_count": null,
      "outputs": []
    },
    {
      "cell_type": "code",
      "source": [
        "std_test=std.transform(test_f2)"
      ],
      "metadata": {
        "id": "NPf2fwEEruPV"
      },
      "execution_count": null,
      "outputs": []
    },
    {
      "cell_type": "code",
      "source": [],
      "metadata": {
        "id": "8UFb0PeZsMpR"
      },
      "execution_count": null,
      "outputs": []
    },
    {
      "cell_type": "code",
      "source": [],
      "metadata": {
        "id": "36Y_suxzsOTf"
      },
      "execution_count": null,
      "outputs": []
    },
    {
      "cell_type": "markdown",
      "source": [
        "## Componentes "
      ],
      "metadata": {
        "id": "qDOprHD4sPF4"
      }
    },
    {
      "cell_type": "code",
      "source": [
        "from sklearn.decomposition import PCA"
      ],
      "metadata": {
        "id": "9va_m1IdsOKr"
      },
      "execution_count": null,
      "outputs": []
    },
    {
      "cell_type": "code",
      "source": [
        "pca=PCA().fit(std_train)"
      ],
      "metadata": {
        "id": "lgfnIicFsbNA"
      },
      "execution_count": null,
      "outputs": []
    },
    {
      "cell_type": "code",
      "source": [
        "ar_varianza=pca.explained_variance_ratio_"
      ],
      "metadata": {
        "id": "pPyVWz54snKz"
      },
      "execution_count": null,
      "outputs": []
    },
    {
      "cell_type": "code",
      "source": [
        "=np.cumsum(ar_varianza)"
      ],
      "metadata": {
        "id": "3EyY9vMEs5KO"
      },
      "execution_count": null,
      "outputs": []
    },
    {
      "cell_type": "code",
      "source": [
        "plt.plot(np.cumsum(ar_varianza))\n",
        "plt.xlabel('N componentes')\n",
        "plt.ylabel('Suma acumulada varianza')\n",
        "plt.show()"
      ],
      "metadata": {
        "colab": {
          "base_uri": "https://localhost:8080/",
          "height": 279
        },
        "id": "3Wujvtlps3Hf",
        "outputId": "07f24c02-691b-46fd-8e85-ece7c5710ec0"
      },
      "execution_count": null,
      "outputs": [
        {
          "output_type": "display_data",
          "data": {
            "text/plain": [
              "<Figure size 432x288 with 1 Axes>"
            ],
            "image/png": "[encoded data removed]"
          },
          "metadata": {
            "needs_background": "light"
          }
        }
      ]
    },
    {
      "cell_type": "code",
      "source": [
        "ar_pca_sum=np.cumsum(ar_varianza)"
      ],
      "metadata": {
        "id": "6jU5MoFItPbg"
      },
      "execution_count": null,
      "outputs": []
    },
    {
      "cell_type": "code",
      "source": [
        "np.where((ar_pca_sum>0.8) & (ar_pca_sum<0.9))"
      ],
      "metadata": {
        "colab": {
          "base_uri": "https://localhost:8080/"
        },
        "id": "Mfv6FAyps3Ee",
        "outputId": "09f2f7be-7fd8-4522-aea7-d4d967927cf8"
      },
      "execution_count": null,
      "outputs": [
        {
          "output_type": "execute_result",
          "data": {
            "text/plain": [
              "(array([196, 197, 198, 199, 200, 201, 202, 203, 204, 205, 206, 207, 208,\n",
              "        209, 210, 211, 212, 213, 214, 215, 216, 217, 218, 219, 220, 221,\n",
              "        222, 223, 224, 225, 226, 227, 228, 229, 230, 231, 232, 233, 234,\n",
              "        235, 236, 237, 238, 239, 240, 241, 242, 243, 244, 245, 246, 247,\n",
              "        248, 249, 250, 251, 252, 253, 254, 255, 256, 257, 258, 259, 260,\n",
              "        261, 262, 263, 264, 265, 266, 267, 268, 269, 270, 271, 272, 273,\n",
              "        274, 275, 276, 277, 278, 279, 280, 281, 282, 283, 284, 285, 286,\n",
              "        287, 288, 289, 290, 291, 292, 293, 294, 295, 296, 297, 298, 299,\n",
              "        300, 301, 302, 303, 304, 305, 306, 307, 308, 309, 310, 311, 312,\n",
              "        313, 314, 315, 316, 317, 318, 319, 320, 321, 322, 323, 324, 325,\n",
              "        326, 327, 328, 329, 330, 331, 332, 333, 334, 335, 336, 337, 338,\n",
              "        339, 340, 341, 342, 343, 344, 345, 346, 347, 348, 349, 350, 351,\n",
              "        352, 353, 354, 355, 356, 357, 358, 359, 360, 361, 362, 363, 364,\n",
              "        365, 366, 367, 368, 369, 370, 371, 372, 373, 374, 375, 376, 377,\n",
              "        378, 379, 380, 381, 382, 383, 384]),)"
            ]
          },
          "metadata": {},
          "execution_count": 32
        }
      ]
    },
    {
      "cell_type": "code",
      "source": [
        "n_componentes=197"
      ],
      "metadata": {
        "id": "TtNUIA--sTM-"
      },
      "execution_count": null,
      "outputs": []
    },
    {
      "cell_type": "code",
      "source": [],
      "metadata": {
        "id": "vfnYzNAVtwfZ"
      },
      "execution_count": null,
      "outputs": []
    },
    {
      "cell_type": "markdown",
      "source": [
        "## N componentes elegido "
      ],
      "metadata": {
        "id": "0HGq4zdytxd3"
      }
    },
    {
      "cell_type": "code",
      "source": [
        "pca_v2=PCA(n_components=197)\n",
        "pca_valor=pca_v2.fit_transform(std_train)"
      ],
      "metadata": {
        "id": "t7Uz3R1ktwYn"
      },
      "execution_count": null,
      "outputs": []
    },
    {
      "cell_type": "code",
      "source": [
        "pca_v2.components_.T"
      ],
      "metadata": {
        "colab": {
          "base_uri": "https://localhost:8080/"
        },
        "id": "LCuvFaJqtwVt",
        "outputId": "75136263-00f0-4d74-e1e1-dc5501597ab5"
      },
      "execution_count": null,
      "outputs": [
        {
          "output_type": "execute_result",
          "data": {
            "text/plain": [
              "(872, 197)"
            ]
          },
          "metadata": {},
          "execution_count": 76
        }
      ]
    },
    {
      "cell_type": "code",
      "source": [
        "list_namepca=[f'PC{i}' for i in range(1,198)]"
      ],
      "metadata": {
        "id": "wj9HVWcYy79W"
      },
      "execution_count": null,
      "outputs": []
    },
    {
      "cell_type": "code",
      "source": [
        "df_pca_loading=pd.DataFrame(pca_v2.components_.T,columns=list_namepca,index=set_var)"
      ],
      "metadata": {
        "id": "IAancCMBxBrI"
      },
      "execution_count": null,
      "outputs": []
    },
    {
      "cell_type": "code",
      "source": [
        "df_pca_loading.head()"
      ],
      "metadata": {
        "colab": {
          "base_uri": "https://localhost:8080/",
          "height": 386
        },
        "id": "qWhP93dcyObo",
        "outputId": "3a373c84-3900-4263-b4f9-3a2b198529c3"
      },
      "execution_count": null,
      "outputs": [
        {
          "output_type": "execute_result",
          "data": {
            "text/plain": [
              "            PC1       PC2       PC3       PC4       PC5       PC6       PC7  \\\n",
              "g-291 -0.042213 -0.068026  0.003997 -0.004068 -0.054496  0.017118  0.024478   \n",
              "g-457 -0.006615 -0.003012  0.027145 -0.046824 -0.042767 -0.024156 -0.005961   \n",
              "c-29  -0.053561 -0.028963 -0.004327 -0.006719  0.026072  0.006118  0.003575   \n",
              "g-58  -0.042614  0.070825 -0.023865  0.025786 -0.029474  0.023561  0.028658   \n",
              "g-507  0.008786  0.014996 -0.051853 -0.060052 -0.061204 -0.002339 -0.056753   \n",
              "\n",
              "            PC8       PC9      PC10  ...     PC188     PC189     PC190  \\\n",
              "g-291 -0.046152 -0.005784  0.036394  ... -0.011118 -0.012427 -0.012378   \n",
              "g-457 -0.011275 -0.085067  0.021018  ...  0.031245 -0.093061 -0.067253   \n",
              "c-29   0.003407 -0.014974  0.013144  ...  0.016375 -0.007191  0.011691   \n",
              "g-58  -0.019674 -0.026656  0.005112  ...  0.014903 -0.003695 -0.000215   \n",
              "g-507 -0.033527  0.006246  0.029656  ...  0.058493  0.002457 -0.014330   \n",
              "\n",
              "          PC191     PC192     PC193     PC194     PC195     PC196     PC197  \n",
              "g-291 -0.010780  0.010885 -0.008377  0.026872 -0.003240 -0.002235  0.025434  \n",
              "g-457  0.095144 -0.015116 -0.021940  0.135872  0.077674  0.145261  0.019267  \n",
              "c-29   0.009138 -0.006712  0.011063 -0.032908  0.002444 -0.000533  0.006534  \n",
              "g-58   0.010831 -0.006231  0.000041  0.028242  0.021023  0.010894  0.000726  \n",
              "g-507  0.020994 -0.003905  0.010458 -0.013427 -0.004293 -0.121314  0.043389  \n",
              "\n",
              "[5 rows x 197 columns]"
            ],
            "text/html": [
              "\n",
              "  <div id=\"df-10613777-e385-45f7-84b0-5f13844ad0c6\">\n",
              "    <div class=\"colab-df-container\">\n",
              "      <div>\n",
              "<style scoped>\n",
              "    .dataframe tbody tr th:only-of-type {\n",
              "        vertical-align: middle;\n",
              "    }\n",
              "\n",
              "    .dataframe tbody tr th {\n",
              "        vertical-align: top;\n",
              "    }\n",
              "\n",
              "    .dataframe thead th {\n",
              "        text-align: right;\n",
              "    }\n",
              "</style>\n",
              "<table border=\"1\" class=\"dataframe\">\n",
              "  <thead>\n",
              "    <tr style=\"text-align: right;\">\n",
              "      <th></th>\n",
              "      <th>PC1</th>\n",
              "      <th>PC2</th>\n",
              "      <th>PC3</th>\n",
              "      <th>PC4</th>\n",
              "      <th>PC5</th>\n",
              "      <th>PC6</th>\n",
              "      <th>PC7</th>\n",
              "      <th>PC8</th>\n",
              "      <th>PC9</th>\n",
              "      <th>PC10</th>\n",
              "      <th>...</th>\n",
              "      <th>PC188</th>\n",
              "      <th>PC189</th>\n",
              "      <th>PC190</th>\n",
              "      <th>PC191</th>\n",
              "      <th>PC192</th>\n",
              "      <th>PC193</th>\n",
              "      <th>PC194</th>\n",
              "      <th>PC195</th>\n",
              "      <th>PC196</th>\n",
              "      <th>PC197</th>\n",
              "    </tr>\n",
              "  </thead>\n",
              "  <tbody>\n",
              "    <tr>\n",
              "      <th>g-291</th>\n",
              "      <td>-0.042213</td>\n",
              "      <td>-0.068026</td>\n",
              "      <td>0.003997</td>\n",
              "      <td>-0.004068</td>\n",
              "      <td>-0.054496</td>\n",
              "      <td>0.017118</td>\n",
              "      <td>0.024478</td>\n",
              "      <td>-0.046152</td>\n",
              "      <td>-0.005784</td>\n",
              "      <td>0.036394</td>\n",
              "      <td>...</td>\n",
              "      <td>-0.011118</td>\n",
              "      <td>-0.012427</td>\n",
              "      <td>-0.012378</td>\n",
              "      <td>-0.010780</td>\n",
              "      <td>0.010885</td>\n",
              "      <td>-0.008377</td>\n",
              "      <td>0.026872</td>\n",
              "      <td>-0.003240</td>\n",
              "      <td>-0.002235</td>\n",
              "      <td>0.025434</td>\n",
              "    </tr>\n",
              "    <tr>\n",
              "      <th>g-457</th>\n",
              "      <td>-0.006615</td>\n",
              "      <td>-0.003012</td>\n",
              "      <td>0.027145</td>\n",
              "      <td>-0.046824</td>\n",
              "      <td>-0.042767</td>\n",
              "      <td>-0.024156</td>\n",
              "      <td>-0.005961</td>\n",
              "      <td>-0.011275</td>\n",
              "      <td>-0.085067</td>\n",
              "      <td>0.021018</td>\n",
              "      <td>...</td>\n",
              "      <td>0.031245</td>\n",
              "      <td>-0.093061</td>\n",
              "      <td>-0.067253</td>\n",
              "      <td>0.095144</td>\n",
              "      <td>-0.015116</td>\n",
              "      <td>-0.021940</td>\n",
              "      <td>0.135872</td>\n",
              "      <td>0.077674</td>\n",
              "      <td>0.145261</td>\n",
              "      <td>0.019267</td>\n",
              "    </tr>\n",
              "    <tr>\n",
              "      <th>c-29</th>\n",
              "      <td>-0.053561</td>\n",
              "      <td>-0.028963</td>\n",
              "      <td>-0.004327</td>\n",
              "      <td>-0.006719</td>\n",
              "      <td>0.026072</td>\n",
              "      <td>0.006118</td>\n",
              "      <td>0.003575</td>\n",
              "      <td>0.003407</td>\n",
              "      <td>-0.014974</td>\n",
              "      <td>0.013144</td>\n",
              "      <td>...</td>\n",
              "      <td>0.016375</td>\n",
              "      <td>-0.007191</td>\n",
              "      <td>0.011691</td>\n",
              "      <td>0.009138</td>\n",
              "      <td>-0.006712</td>\n",
              "      <td>0.011063</td>\n",
              "      <td>-0.032908</td>\n",
              "      <td>0.002444</td>\n",
              "      <td>-0.000533</td>\n",
              "      <td>0.006534</td>\n",
              "    </tr>\n",
              "    <tr>\n",
              "      <th>g-58</th>\n",
              "      <td>-0.042614</td>\n",
              "      <td>0.070825</td>\n",
              "      <td>-0.023865</td>\n",
              "      <td>0.025786</td>\n",
              "      <td>-0.029474</td>\n",
              "      <td>0.023561</td>\n",
              "      <td>0.028658</td>\n",
              "      <td>-0.019674</td>\n",
              "      <td>-0.026656</td>\n",
              "      <td>0.005112</td>\n",
              "      <td>...</td>\n",
              "      <td>0.014903</td>\n",
              "      <td>-0.003695</td>\n",
              "      <td>-0.000215</td>\n",
              "      <td>0.010831</td>\n",
              "      <td>-0.006231</td>\n",
              "      <td>0.000041</td>\n",
              "      <td>0.028242</td>\n",
              "      <td>0.021023</td>\n",
              "      <td>0.010894</td>\n",
              "      <td>0.000726</td>\n",
              "    </tr>\n",
              "    <tr>\n",
              "      <th>g-507</th>\n",
              "      <td>0.008786</td>\n",
              "      <td>0.014996</td>\n",
              "      <td>-0.051853</td>\n",
              "      <td>-0.060052</td>\n",
              "      <td>-0.061204</td>\n",
              "      <td>-0.002339</td>\n",
              "      <td>-0.056753</td>\n",
              "      <td>-0.033527</td>\n",
              "      <td>0.006246</td>\n",
              "      <td>0.029656</td>\n",
              "      <td>...</td>\n",
              "      <td>0.058493</td>\n",
              "      <td>0.002457</td>\n",
              "      <td>-0.014330</td>\n",
              "      <td>0.020994</td>\n",
              "      <td>-0.003905</td>\n",
              "      <td>0.010458</td>\n",
              "      <td>-0.013427</td>\n",
              "      <td>-0.004293</td>\n",
              "      <td>-0.121314</td>\n",
              "      <td>0.043389</td>\n",
              "    </tr>\n",
              "  </tbody>\n",
              "</table>\n",
              "<p>5 rows × 197 columns</p>\n",
              "</div>\n",
              "      <button class=\"colab-df-convert\" onclick=\"convertToInteractive('df-10613777-e385-45f7-84b0-5f13844ad0c6')\"\n",
              "              title=\"Convert this dataframe to an interactive table.\"\n",
              "              style=\"display:none;\">\n",
              "        \n",
              "  <svg xmlns=\"http://www.w3.org/2000/svg\" height=\"24px\"viewBox=\"0 0 24 24\"\n",
              "       width=\"24px\">\n",
              "    <path d=\"M0 0h24v24H0V0z\" fill=\"none\"/>\n",
              "    <path d=\"M18.56 5.44l.94 2.06.94-2.06 2.06-.94-2.06-.94-.94-2.06-.94 2.06-2.06.94zm-11 1L8.5 8.5l.94-2.06 2.06-.94-2.06-.94L8.5 2.5l-.94 2.06-2.06.94zm10 10l.94 2.06.94-2.06 2.06-.94-2.06-.94-.94-2.06-.94 2.06-2.06.94z\"/><path d=\"M17.41 7.96l-1.37-1.37c-.4-.4-.92-.59-1.43-.59-.52 0-1.04.2-1.43.59L10.3 9.45l-7.72 7.72c-.78.78-.78 2.05 0 2.83L4 21.41c.39.39.9.59 1.41.59.51 0 1.02-.2 1.41-.59l7.78-7.78 2.81-2.81c.8-.78.8-2.07 0-2.86zM5.41 20L4 18.59l7.72-7.72 1.47 1.35L5.41 20z\"/>\n",
              "  </svg>\n",
              "      </button>\n",
              "      \n",
              "  <style>\n",
              "    .colab-df-container {\n",
              "      display:flex;\n",
              "      flex-wrap:wrap;\n",
              "      gap: 12px;\n",
              "    }\n",
              "\n",
              "    .colab-df-convert {\n",
              "      background-color: #E8F0FE;\n",
              "      border: none;\n",
              "      border-radius: 50%;\n",
              "      cursor: pointer;\n",
              "      display: none;\n",
              "      fill: #1967D2;\n",
              "      height: 32px;\n",
              "      padding: 0 0 0 0;\n",
              "      width: 32px;\n",
              "    }\n",
              "\n",
              "    .colab-df-convert:hover {\n",
              "      background-color: #E2EBFA;\n",
              "      box-shadow: 0px 1px 2px rgba(60, 64, 67, 0.3), 0px 1px 3px 1px rgba(60, 64, 67, 0.15);\n",
              "      fill: #174EA6;\n",
              "    }\n",
              "\n",
              "    [theme=dark] .colab-df-convert {\n",
              "      background-color: #3B4455;\n",
              "      fill: #D2E3FC;\n",
              "    }\n",
              "\n",
              "    [theme=dark] .colab-df-convert:hover {\n",
              "      background-color: #434B5C;\n",
              "      box-shadow: 0px 1px 3px 1px rgba(0, 0, 0, 0.15);\n",
              "      filter: drop-shadow(0px 1px 2px rgba(0, 0, 0, 0.3));\n",
              "      fill: #FFFFFF;\n",
              "    }\n",
              "  </style>\n",
              "\n",
              "      <script>\n",
              "        const buttonEl =\n",
              "          document.querySelector('#df-10613777-e385-45f7-84b0-5f13844ad0c6 button.colab-df-convert');\n",
              "        buttonEl.style.display =\n",
              "          google.colab.kernel.accessAllowed ? 'block' : 'none';\n",
              "\n",
              "        async function convertToInteractive(key) {\n",
              "          const element = document.querySelector('#df-10613777-e385-45f7-84b0-5f13844ad0c6');\n",
              "          const dataTable =\n",
              "            await google.colab.kernel.invokeFunction('convertToInteractive',\n",
              "                                                     [key], {});\n",
              "          if (!dataTable) return;\n",
              "\n",
              "          const docLinkHtml = 'Like what you see? Visit the ' +\n",
              "            '<a target=\"_blank\" href=https://colab.research.google.com/notebooks/data_table.ipynb>data table notebook</a>'\n",
              "            + ' to learn more about interactive tables.';\n",
              "          element.innerHTML = '';\n",
              "          dataTable['output_type'] = 'display_data';\n",
              "          await google.colab.output.renderOutput(dataTable, element);\n",
              "          const docLink = document.createElement('div');\n",
              "          docLink.innerHTML = docLinkHtml;\n",
              "          element.appendChild(docLink);\n",
              "        }\n",
              "      </script>\n",
              "    </div>\n",
              "  </div>\n",
              "  "
            ]
          },
          "metadata": {},
          "execution_count": 79
        }
      ]
    },
    {
      "cell_type": "code",
      "source": [
        "df_pca_loading[['PC1']].apply(lambda x:sum(x**2))"
      ],
      "metadata": {
        "colab": {
          "base_uri": "https://localhost:8080/"
        },
        "id": "uvx8rbOezYIp",
        "outputId": "7280b2e7-c4e9-4d89-f94e-beccf37cd1e1"
      },
      "execution_count": null,
      "outputs": [
        {
          "output_type": "execute_result",
          "data": {
            "text/plain": [
              "PC1    1.0\n",
              "dtype: float64"
            ]
          },
          "metadata": {},
          "execution_count": 81
        }
      ]
    },
    {
      "cell_type": "code",
      "source": [],
      "metadata": {
        "id": "V9lTJN0wzc1H"
      },
      "execution_count": null,
      "outputs": []
    }
  ]
}